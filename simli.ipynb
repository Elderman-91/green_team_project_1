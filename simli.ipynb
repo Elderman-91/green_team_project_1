{
 "cells": [
  {
   "cell_type": "code",
   "execution_count": 1,
   "metadata": {},
   "outputs": [],
   "source": [
    "import pandas as pd\n",
    "import numpy as np\n",
    "import matplotlib as mpl\n",
    "import matplotlib.pyplot as plt"
   ]
  },
  {
   "cell_type": "code",
   "execution_count": 3,
   "metadata": {},
   "outputs": [],
   "source": [
    "def num_str2float(s):\n",
    "    try:\n",
    "        return pd.to_numeric(s)\n",
    "    except ValueError:\n",
    "        return s\n",
    "\n",
    "def remove_tar_str(s, target_string):\n",
    "    if isinstance(s, str):\n",
    "        return s.replace(target_string, '')\n",
    "    else:\n",
    "        return s"
   ]
  },
  {
   "cell_type": "code",
   "execution_count": 7,
   "metadata": {},
   "outputs": [],
   "source": [
    "seoul_simli = pd.read_csv('data/심리.csv', encoding='utf-8')\n",
    "seoul_simli = seoul_simli.map(lambda x: remove_tar_str(x, ',')).apply(num_str2float)"
   ]
  },
  {
   "cell_type": "code",
   "execution_count": 15,
   "metadata": {},
   "outputs": [],
   "source": [
    "seoul_simli_1 = seoul_simli.drop(seoul_simli.columns[:5], axis=1)\n",
    "seoul_simli_2 = seoul_simli_1.drop(1,axis=0)"
   ]
  },
  {
   "cell_type": "code",
   "execution_count": 17,
   "metadata": {},
   "outputs": [],
   "source": [
    "seoul_simli_3 = seoul_simli_2.T"
   ]
  },
  {
   "cell_type": "code",
   "execution_count": 20,
   "metadata": {},
   "outputs": [],
   "source": [
    "seoul_simli_3.index = pd.to_numeric(seoul_simli_3.index.str.replace('/', ''))\n"
   ]
  },
  {
   "cell_type": "code",
   "execution_count": 26,
   "metadata": {},
   "outputs": [],
   "source": [
    "seoul_simli_4 = seoul_simli_3.rename(columns={0: \"심리지수\"})"
   ]
  },
  {
   "cell_type": "code",
   "execution_count": 29,
   "metadata": {},
   "outputs": [],
   "source": [
    "seoul_simli_4.to_csv(\"data/simli.csv\", encoding=\"utf8\", index=True)"
   ]
  },
  {
   "cell_type": "code",
   "execution_count": null,
   "metadata": {},
   "outputs": [],
   "source": []
  }
 ],
 "metadata": {
  "kernelspec": {
   "display_name": "study-env",
   "language": "python",
   "name": "python3"
  },
  "language_info": {
   "codemirror_mode": {
    "name": "ipython",
    "version": 3
   },
   "file_extension": ".py",
   "mimetype": "text/x-python",
   "name": "python",
   "nbconvert_exporter": "python",
   "pygments_lexer": "ipython3",
   "version": "3.9.18"
  }
 },
 "nbformat": 4,
 "nbformat_minor": 2
}
