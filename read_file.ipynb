{
 "cells": [
  {
   "cell_type": "code",
   "execution_count": null,
   "metadata": {},
   "outputs": [],
   "source": [
    "import pandas as pd\n",
    "import numpy as np\n",
    "import matplotlib as mpl\n",
    "import matplotlib.pyplot as plt\n",
    "from IPython.display import display"
   ]
  },
  {
   "cell_type": "code",
   "execution_count": null,
   "metadata": {},
   "outputs": [],
   "source": [
    "# 데이터 프레임 내 숫자 형태의 string을 int 또는 float으로 변환\n",
    "def num_str2float(s):\n",
    "    try:\n",
    "        return pd.to_numeric(s)\n",
    "    except ValueError:\n",
    "        return s\n",
    "\n",
    "# 데이터 프레임 내 string에서 특정 문자 제거 예: ',' 또는 '_'\n",
    "def remove_tar_str(s, target_string):\n",
    "    if isinstance(s, str):\n",
    "        return s.replace(target_string, '')\n",
    "    else:\n",
    "        return s"
   ]
  },
  {
   "cell_type": "code",
   "execution_count": null,
   "metadata": {},
   "outputs": [],
   "source": [
    "#파일 로드 및 변환\n",
    "sample_df = pd.read_csv('파일경로/파일이름', encoding='utf-8') # 파일 CSV 형태로 로드\n",
    "sample_df = sample_df.map(lambda x: remove_tar_str(x, ',')).apply(num_str2float) #데이터 프레임 내 특정 string 제거 후 숫자 변환 수행"
   ]
  }
 ],
 "metadata": {
  "language_info": {
   "name": "python"
  }
 },
 "nbformat": 4,
 "nbformat_minor": 2
}
