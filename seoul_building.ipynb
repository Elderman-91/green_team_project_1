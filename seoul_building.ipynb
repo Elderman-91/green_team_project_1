{
 "cells": [
  {
   "cell_type": "code",
   "execution_count": 68,
   "metadata": {},
   "outputs": [],
   "source": [
    "import pandas as pd\n",
    "import numpy as np\n",
    "import matplotlib as mpl\n",
    "import matplotlib.pyplot as plt"
   ]
  },
  {
   "cell_type": "code",
   "execution_count": 69,
   "metadata": {},
   "outputs": [],
   "source": [
    "# 데이터 프레임 내 숫자 형태의 string을 int 또는 float으로 변환\n",
    "def num_str2float(s):\n",
    "    try:\n",
    "        return pd.to_numeric(s)\n",
    "    except ValueError:\n",
    "        return s\n",
    "\n",
    "# 데이터 프레임 내 string에서 특정 문자 제거 예: ',' 또는 '_'\n",
    "def remove_tar_str(s, target_string):\n",
    "    if isinstance(s, str):\n",
    "        return s.replace(target_string, '')\n",
    "    else:\n",
    "        return s"
   ]
  },
  {
   "cell_type": "code",
   "execution_count": 70,
   "metadata": {},
   "outputs": [],
   "source": [
    "#파일 로드 및 변환\n",
    "seoul_bulding18 = pd.read_csv('data/18.csv', encoding='utf-8') # 파일 CSV 형태로 로드\n",
    "seoul_bulding18_1 = seoul_bulding18.map(lambda x: remove_tar_str(x, ',')).apply(num_str2float) #데이터 프레임 내 특정 string 제거 후 숫자 변환 수행"
   ]
  },
  {
   "cell_type": "code",
   "execution_count": 71,
   "metadata": {},
   "outputs": [],
   "source": [
    "seoul_bulding19 = pd.read_csv('data/19.csv', encoding='utf-8')\n",
    "seoul_bulding19_1 = seoul_bulding19.map(lambda x: remove_tar_str(x, ',')).apply(num_str2float)"
   ]
  },
  {
   "cell_type": "code",
   "execution_count": 72,
   "metadata": {},
   "outputs": [],
   "source": [
    "seoul_bulding20 = pd.read_csv('data/20.csv', encoding='utf-8')\n",
    "seoul_bulding20_1 = seoul_bulding20.map(lambda x: remove_tar_str(x, ',')).apply(num_str2float)"
   ]
  },
  {
   "cell_type": "code",
   "execution_count": 73,
   "metadata": {},
   "outputs": [],
   "source": [
    "seoul_bulding21 = pd.read_csv('data/21.csv', encoding='utf-8')\n",
    "seoul_bulding21_1 = seoul_bulding21.map(lambda x: remove_tar_str(x, ',')).apply(num_str2float)"
   ]
  },
  {
   "cell_type": "code",
   "execution_count": 74,
   "metadata": {},
   "outputs": [],
   "source": [
    "seoul_bulding22 = pd.read_csv('data/22.csv', encoding='utf-8')\n",
    "seoul_bulding22_1 = seoul_bulding22.map(lambda x: remove_tar_str(x, ',')).apply(num_str2float)"
   ]
  },
  {
   "cell_type": "code",
   "execution_count": 75,
   "metadata": {},
   "outputs": [],
   "source": [
    "dropped_seoul_building18 = seoul_bulding18_1.drop(seoul_bulding18_1.columns[9:], axis=1)\n",
    "dropped_seoul_building18['거래금액(원)'] = dropped_seoul_building18['거래금액(만원)']*10000\n",
    "dropped_seoul_building18['전용면적(평)'] = dropped_seoul_building18['전용면적(㎡)']/3.3\n",
    "dropped_seoul_building18['평단가'] = dropped_seoul_building18['거래금액(만원)']/dropped_seoul_building18['전용면적(평)']\n",
    "seoul_bulding_18 = \\\n",
    "    dropped_seoul_building18.sort_values(by=['계약년월']).groupby('계약년월').agg({'평단가': 'mean'})"
   ]
  },
  {
   "cell_type": "code",
   "execution_count": 76,
   "metadata": {},
   "outputs": [],
   "source": [
    "dropped_seoul_building19 = seoul_bulding19_1.drop(seoul_bulding19_1.columns[9:], axis=1)\n",
    "dropped_seoul_building19['거래금액(원)'] = dropped_seoul_building19['거래금액(만원)']*10000\n",
    "dropped_seoul_building19['전용면적(평)'] = dropped_seoul_building19['전용면적(㎡)']/3.3\n",
    "dropped_seoul_building19['평단가'] = dropped_seoul_building19['거래금액(만원)']/dropped_seoul_building19['전용면적(평)']\n",
    "seoul_bulding_19 = \\\n",
    "    dropped_seoul_building19.sort_values(by=['계약년월']).groupby('계약년월').agg({'평단가': 'mean'})"
   ]
  },
  {
   "cell_type": "code",
   "execution_count": 77,
   "metadata": {},
   "outputs": [],
   "source": [
    "dropped_seoul_building20 = seoul_bulding20_1.drop(seoul_bulding20_1.columns[9:], axis=1)\n",
    "dropped_seoul_building20['거래금액(원)'] = dropped_seoul_building20['거래금액(만원)']*10000\n",
    "dropped_seoul_building20['전용면적(평)'] = dropped_seoul_building20['전용면적(㎡)']/3.3\n",
    "dropped_seoul_building20['평단가'] = dropped_seoul_building20['거래금액(만원)']/dropped_seoul_building20['전용면적(평)']\n",
    "seoul_bulding_20 = \\\n",
    "    dropped_seoul_building20.sort_values(by=['계약년월']).groupby('계약년월').agg({'평단가': 'mean'})"
   ]
  },
  {
   "cell_type": "code",
   "execution_count": 78,
   "metadata": {},
   "outputs": [],
   "source": [
    "dropped_seoul_building21 = seoul_bulding21_1.drop(seoul_bulding21_1.columns[9:], axis=1)\n",
    "dropped_seoul_building21['거래금액(원)'] = dropped_seoul_building21['거래금액(만원)']*10000\n",
    "dropped_seoul_building21['전용면적(평)'] = dropped_seoul_building21['전용면적(㎡)']/3.3\n",
    "dropped_seoul_building21['평단가'] = dropped_seoul_building21['거래금액(만원)']/dropped_seoul_building21['전용면적(평)']\n",
    "seoul_bulding_21 = \\\n",
    "    dropped_seoul_building21.sort_values(by=['계약년월']).groupby('계약년월').agg({'평단가': 'mean'})"
   ]
  },
  {
   "cell_type": "code",
   "execution_count": 79,
   "metadata": {},
   "outputs": [],
   "source": [
    "dropped_seoul_building22 = seoul_bulding22_1.drop(seoul_bulding22_1.columns[9:], axis=1)\n",
    "dropped_seoul_building22['거래금액(원)'] = dropped_seoul_building22['거래금액(만원)']*10000\n",
    "dropped_seoul_building22['전용면적(평)'] = dropped_seoul_building22['전용면적(㎡)']/3.3\n",
    "dropped_seoul_building22['평단가'] = dropped_seoul_building22['거래금액(만원)']/dropped_seoul_building22['전용면적(평)']\n",
    "seoul_bulding_22 = \\\n",
    "    dropped_seoul_building22.sort_values(by=['계약년월']).groupby('계약년월').agg({'평단가': 'mean'})"
   ]
  },
  {
   "cell_type": "code",
   "execution_count": 81,
   "metadata": {},
   "outputs": [
    {
     "data": {
      "text/html": [
       "<div>\n",
       "<style scoped>\n",
       "    .dataframe tbody tr th:only-of-type {\n",
       "        vertical-align: middle;\n",
       "    }\n",
       "\n",
       "    .dataframe tbody tr th {\n",
       "        vertical-align: top;\n",
       "    }\n",
       "\n",
       "    .dataframe thead th {\n",
       "        text-align: right;\n",
       "    }\n",
       "</style>\n",
       "<table border=\"1\" class=\"dataframe\">\n",
       "  <thead>\n",
       "    <tr style=\"text-align: right;\">\n",
       "      <th></th>\n",
       "      <th>평단가</th>\n",
       "    </tr>\n",
       "    <tr>\n",
       "      <th>계약년월</th>\n",
       "      <th></th>\n",
       "    </tr>\n",
       "  </thead>\n",
       "  <tbody>\n",
       "    <tr>\n",
       "      <th>201801</th>\n",
       "      <td>5284.683427</td>\n",
       "    </tr>\n",
       "    <tr>\n",
       "      <th>201802</th>\n",
       "      <td>5162.512642</td>\n",
       "    </tr>\n",
       "    <tr>\n",
       "      <th>201803</th>\n",
       "      <td>5559.330421</td>\n",
       "    </tr>\n",
       "    <tr>\n",
       "      <th>201804</th>\n",
       "      <td>5408.207363</td>\n",
       "    </tr>\n",
       "    <tr>\n",
       "      <th>201805</th>\n",
       "      <td>5384.022908</td>\n",
       "    </tr>\n",
       "    <tr>\n",
       "      <th>201806</th>\n",
       "      <td>5295.365944</td>\n",
       "    </tr>\n",
       "    <tr>\n",
       "      <th>201807</th>\n",
       "      <td>6018.374550</td>\n",
       "    </tr>\n",
       "    <tr>\n",
       "      <th>201808</th>\n",
       "      <td>6152.838395</td>\n",
       "    </tr>\n",
       "    <tr>\n",
       "      <th>201809</th>\n",
       "      <td>5954.082115</td>\n",
       "    </tr>\n",
       "    <tr>\n",
       "      <th>201810</th>\n",
       "      <td>5654.036773</td>\n",
       "    </tr>\n",
       "    <tr>\n",
       "      <th>201811</th>\n",
       "      <td>5524.588140</td>\n",
       "    </tr>\n",
       "    <tr>\n",
       "      <th>201812</th>\n",
       "      <td>4873.305712</td>\n",
       "    </tr>\n",
       "  </tbody>\n",
       "</table>\n",
       "</div>"
      ],
      "text/plain": [
       "                평단가\n",
       "계약년월               \n",
       "201801  5284.683427\n",
       "201802  5162.512642\n",
       "201803  5559.330421\n",
       "201804  5408.207363\n",
       "201805  5384.022908\n",
       "201806  5295.365944\n",
       "201807  6018.374550\n",
       "201808  6152.838395\n",
       "201809  5954.082115\n",
       "201810  5654.036773\n",
       "201811  5524.588140\n",
       "201812  4873.305712"
      ]
     },
     "execution_count": 81,
     "metadata": {},
     "output_type": "execute_result"
    }
   ],
   "source": [
    "seoul_bulding_18"
   ]
  },
  {
   "cell_type": "code",
   "execution_count": null,
   "metadata": {},
   "outputs": [],
   "source": []
  }
 ],
 "metadata": {
  "kernelspec": {
   "display_name": "study-env",
   "language": "python",
   "name": "python3"
  },
  "language_info": {
   "codemirror_mode": {
    "name": "ipython",
    "version": 3
   },
   "file_extension": ".py",
   "mimetype": "text/x-python",
   "name": "python",
   "nbconvert_exporter": "python",
   "pygments_lexer": "ipython3",
   "version": "3.9.18"
  }
 },
 "nbformat": 4,
 "nbformat_minor": 2
}
