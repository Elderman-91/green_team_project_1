{
 "cells": [
  {
   "cell_type": "code",
   "execution_count": 2,
   "metadata": {},
   "outputs": [],
   "source": [
    "import pandas as pd\n",
    "import numpy as np\n",
    "import matplotlib as mpl\n",
    "import matplotlib.pyplot as plt"
   ]
  },
  {
   "cell_type": "code",
   "execution_count": 3,
   "metadata": {},
   "outputs": [],
   "source": [
    "def num_str2float(s):\n",
    "    try:\n",
    "        return pd.to_numeric(s)\n",
    "    except ValueError:\n",
    "        return s\n",
    "\n",
    "def remove_tar_str(s, target_string):\n",
    "    if isinstance(s, str):\n",
    "        return s.replace(target_string, '')\n",
    "    else:\n",
    "        return s"
   ]
  },
  {
   "cell_type": "code",
   "execution_count": 4,
   "metadata": {},
   "outputs": [],
   "source": [
    "korea_hwan = pd.read_csv('data/환율.csv', encoding='utf-8')\n",
    "korea_hwan = korea_hwan.map(lambda x: remove_tar_str(x, ',')).apply(num_str2float)"
   ]
  },
  {
   "cell_type": "code",
   "execution_count": 5,
   "metadata": {},
   "outputs": [
    {
     "data": {
      "text/html": [
       "<div>\n",
       "<style scoped>\n",
       "    .dataframe tbody tr th:only-of-type {\n",
       "        vertical-align: middle;\n",
       "    }\n",
       "\n",
       "    .dataframe tbody tr th {\n",
       "        vertical-align: top;\n",
       "    }\n",
       "\n",
       "    .dataframe thead th {\n",
       "        text-align: right;\n",
       "    }\n",
       "</style>\n",
       "<table border=\"1\" class=\"dataframe\">\n",
       "  <thead>\n",
       "    <tr style=\"text-align: right;\">\n",
       "      <th></th>\n",
       "      <th>통계표</th>\n",
       "      <th>계정항목</th>\n",
       "      <th>측정항목</th>\n",
       "      <th>단위</th>\n",
       "      <th>변환</th>\n",
       "      <th>2018/01</th>\n",
       "      <th>2018/02</th>\n",
       "      <th>2018/03</th>\n",
       "      <th>2018/04</th>\n",
       "      <th>2018/05</th>\n",
       "      <th>...</th>\n",
       "      <th>2023/02</th>\n",
       "      <th>2023/03</th>\n",
       "      <th>2023/04</th>\n",
       "      <th>2023/05</th>\n",
       "      <th>2023/06</th>\n",
       "      <th>2023/07</th>\n",
       "      <th>2023/08</th>\n",
       "      <th>2023/09</th>\n",
       "      <th>2023/10</th>\n",
       "      <th>2023/11</th>\n",
       "    </tr>\n",
       "  </thead>\n",
       "  <tbody>\n",
       "    <tr>\n",
       "      <th>0</th>\n",
       "      <td>3.1.2.1. 주요국 통화의 대원화환율</td>\n",
       "      <td>원/미국달러(매매기준율)</td>\n",
       "      <td>평균자료</td>\n",
       "      <td>원</td>\n",
       "      <td>원자료</td>\n",
       "      <td>1066.7</td>\n",
       "      <td>1079.58</td>\n",
       "      <td>1071.89</td>\n",
       "      <td>1067.76</td>\n",
       "      <td>1076.39</td>\n",
       "      <td>...</td>\n",
       "      <td>1270.74</td>\n",
       "      <td>1305.73</td>\n",
       "      <td>1320.01</td>\n",
       "      <td>1328.21</td>\n",
       "      <td>1296.71</td>\n",
       "      <td>1286.3</td>\n",
       "      <td>1318.47</td>\n",
       "      <td>1329.47</td>\n",
       "      <td>1350.69</td>\n",
       "      <td>1310.39</td>\n",
       "    </tr>\n",
       "  </tbody>\n",
       "</table>\n",
       "<p>1 rows × 76 columns</p>\n",
       "</div>"
      ],
      "text/plain": [
       "                      통계표           계정항목  측정항목  단위   변환  2018/01  2018/02  \\\n",
       "0  3.1.2.1. 주요국 통화의 대원화환율  원/미국달러(매매기준율)  평균자료  원   원자료   1066.7  1079.58   \n",
       "\n",
       "   2018/03  2018/04  2018/05  ...  2023/02  2023/03  2023/04  2023/05  \\\n",
       "0  1071.89  1067.76  1076.39  ...  1270.74  1305.73  1320.01  1328.21   \n",
       "\n",
       "   2023/06  2023/07  2023/08  2023/09  2023/10  2023/11  \n",
       "0  1296.71   1286.3  1318.47  1329.47  1350.69  1310.39  \n",
       "\n",
       "[1 rows x 76 columns]"
      ]
     },
     "execution_count": 5,
     "metadata": {},
     "output_type": "execute_result"
    }
   ],
   "source": [
    "korea_hwan"
   ]
  },
  {
   "cell_type": "code",
   "execution_count": 8,
   "metadata": {},
   "outputs": [],
   "source": [
    "korea_hwan_1 = korea_hwan.drop(korea_hwan.columns[:5], axis=1)"
   ]
  },
  {
   "cell_type": "code",
   "execution_count": 14,
   "metadata": {},
   "outputs": [],
   "source": [
    "korea_hwan_2 = korea_hwan_1.T"
   ]
  },
  {
   "cell_type": "code",
   "execution_count": 15,
   "metadata": {},
   "outputs": [
    {
     "data": {
      "text/html": [
       "<div>\n",
       "<style scoped>\n",
       "    .dataframe tbody tr th:only-of-type {\n",
       "        vertical-align: middle;\n",
       "    }\n",
       "\n",
       "    .dataframe tbody tr th {\n",
       "        vertical-align: top;\n",
       "    }\n",
       "\n",
       "    .dataframe thead th {\n",
       "        text-align: right;\n",
       "    }\n",
       "</style>\n",
       "<table border=\"1\" class=\"dataframe\">\n",
       "  <thead>\n",
       "    <tr style=\"text-align: right;\">\n",
       "      <th></th>\n",
       "      <th>0</th>\n",
       "    </tr>\n",
       "  </thead>\n",
       "  <tbody>\n",
       "    <tr>\n",
       "      <th>2018/01</th>\n",
       "      <td>1066.70</td>\n",
       "    </tr>\n",
       "    <tr>\n",
       "      <th>2018/02</th>\n",
       "      <td>1079.58</td>\n",
       "    </tr>\n",
       "    <tr>\n",
       "      <th>2018/03</th>\n",
       "      <td>1071.89</td>\n",
       "    </tr>\n",
       "    <tr>\n",
       "      <th>2018/04</th>\n",
       "      <td>1067.76</td>\n",
       "    </tr>\n",
       "    <tr>\n",
       "      <th>2018/05</th>\n",
       "      <td>1076.39</td>\n",
       "    </tr>\n",
       "    <tr>\n",
       "      <th>...</th>\n",
       "      <td>...</td>\n",
       "    </tr>\n",
       "    <tr>\n",
       "      <th>2023/07</th>\n",
       "      <td>1286.30</td>\n",
       "    </tr>\n",
       "    <tr>\n",
       "      <th>2023/08</th>\n",
       "      <td>1318.47</td>\n",
       "    </tr>\n",
       "    <tr>\n",
       "      <th>2023/09</th>\n",
       "      <td>1329.47</td>\n",
       "    </tr>\n",
       "    <tr>\n",
       "      <th>2023/10</th>\n",
       "      <td>1350.69</td>\n",
       "    </tr>\n",
       "    <tr>\n",
       "      <th>2023/11</th>\n",
       "      <td>1310.39</td>\n",
       "    </tr>\n",
       "  </tbody>\n",
       "</table>\n",
       "<p>71 rows × 1 columns</p>\n",
       "</div>"
      ],
      "text/plain": [
       "               0\n",
       "2018/01  1066.70\n",
       "2018/02  1079.58\n",
       "2018/03  1071.89\n",
       "2018/04  1067.76\n",
       "2018/05  1076.39\n",
       "...          ...\n",
       "2023/07  1286.30\n",
       "2023/08  1318.47\n",
       "2023/09  1329.47\n",
       "2023/10  1350.69\n",
       "2023/11  1310.39\n",
       "\n",
       "[71 rows x 1 columns]"
      ]
     },
     "execution_count": 15,
     "metadata": {},
     "output_type": "execute_result"
    }
   ],
   "source": [
    "korea_hwan_2"
   ]
  },
  {
   "cell_type": "code",
   "execution_count": 16,
   "metadata": {},
   "outputs": [],
   "source": [
    "korea_hwan_2.index = pd.to_numeric(korea_hwan_2.index.str.replace('/', ''))\n"
   ]
  },
  {
   "cell_type": "code",
   "execution_count": 19,
   "metadata": {},
   "outputs": [],
   "source": [
    "korea_hwan_3 = korea_hwan_2.rename(columns={0: \"원달러환율\"})"
   ]
  },
  {
   "cell_type": "code",
   "execution_count": 20,
   "metadata": {},
   "outputs": [
    {
     "data": {
      "text/html": [
       "<div>\n",
       "<style scoped>\n",
       "    .dataframe tbody tr th:only-of-type {\n",
       "        vertical-align: middle;\n",
       "    }\n",
       "\n",
       "    .dataframe tbody tr th {\n",
       "        vertical-align: top;\n",
       "    }\n",
       "\n",
       "    .dataframe thead th {\n",
       "        text-align: right;\n",
       "    }\n",
       "</style>\n",
       "<table border=\"1\" class=\"dataframe\">\n",
       "  <thead>\n",
       "    <tr style=\"text-align: right;\">\n",
       "      <th></th>\n",
       "      <th>원달러환율</th>\n",
       "    </tr>\n",
       "  </thead>\n",
       "  <tbody>\n",
       "    <tr>\n",
       "      <th>201801</th>\n",
       "      <td>1066.70</td>\n",
       "    </tr>\n",
       "    <tr>\n",
       "      <th>201802</th>\n",
       "      <td>1079.58</td>\n",
       "    </tr>\n",
       "    <tr>\n",
       "      <th>201803</th>\n",
       "      <td>1071.89</td>\n",
       "    </tr>\n",
       "    <tr>\n",
       "      <th>201804</th>\n",
       "      <td>1067.76</td>\n",
       "    </tr>\n",
       "    <tr>\n",
       "      <th>201805</th>\n",
       "      <td>1076.39</td>\n",
       "    </tr>\n",
       "    <tr>\n",
       "      <th>...</th>\n",
       "      <td>...</td>\n",
       "    </tr>\n",
       "    <tr>\n",
       "      <th>202307</th>\n",
       "      <td>1286.30</td>\n",
       "    </tr>\n",
       "    <tr>\n",
       "      <th>202308</th>\n",
       "      <td>1318.47</td>\n",
       "    </tr>\n",
       "    <tr>\n",
       "      <th>202309</th>\n",
       "      <td>1329.47</td>\n",
       "    </tr>\n",
       "    <tr>\n",
       "      <th>202310</th>\n",
       "      <td>1350.69</td>\n",
       "    </tr>\n",
       "    <tr>\n",
       "      <th>202311</th>\n",
       "      <td>1310.39</td>\n",
       "    </tr>\n",
       "  </tbody>\n",
       "</table>\n",
       "<p>71 rows × 1 columns</p>\n",
       "</div>"
      ],
      "text/plain": [
       "          원달러환율\n",
       "201801  1066.70\n",
       "201802  1079.58\n",
       "201803  1071.89\n",
       "201804  1067.76\n",
       "201805  1076.39\n",
       "...         ...\n",
       "202307  1286.30\n",
       "202308  1318.47\n",
       "202309  1329.47\n",
       "202310  1350.69\n",
       "202311  1310.39\n",
       "\n",
       "[71 rows x 1 columns]"
      ]
     },
     "execution_count": 20,
     "metadata": {},
     "output_type": "execute_result"
    }
   ],
   "source": [
    "korea_hwan_3"
   ]
  },
  {
   "cell_type": "code",
   "execution_count": 22,
   "metadata": {},
   "outputs": [],
   "source": [
    "korea_hwan_3.to_csv(\"data/hwan.csv\", encoding=\"utf8\", index=True)"
   ]
  },
  {
   "cell_type": "code",
   "execution_count": null,
   "metadata": {},
   "outputs": [],
   "source": []
  }
 ],
 "metadata": {
  "kernelspec": {
   "display_name": "study-env",
   "language": "python",
   "name": "python3"
  },
  "language_info": {
   "codemirror_mode": {
    "name": "ipython",
    "version": 3
   },
   "file_extension": ".py",
   "mimetype": "text/x-python",
   "name": "python",
   "nbconvert_exporter": "python",
   "pygments_lexer": "ipython3",
   "version": "3.9.18"
  }
 },
 "nbformat": 4,
 "nbformat_minor": 2
}
