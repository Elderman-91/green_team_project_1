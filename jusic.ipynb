{
 "cells": [
  {
   "cell_type": "code",
   "execution_count": 1,
   "metadata": {},
   "outputs": [],
   "source": [
    "import pandas as pd\n",
    "import numpy as np\n",
    "import matplotlib as mpl\n",
    "import matplotlib.pyplot as plt"
   ]
  },
  {
   "cell_type": "code",
   "execution_count": 2,
   "metadata": {},
   "outputs": [],
   "source": [
    "# 데이터 프레임 내 숫자 형태의 string을 int 또는 float으로 변환\n",
    "def num_str2float(s):\n",
    "    try:\n",
    "        return pd.to_numeric(s)\n",
    "    except ValueError:\n",
    "        return s\n",
    "\n",
    "# 데이터 프레임 내 string에서 특정 문자 제거 예: ',' 또는 '_'\n",
    "def remove_tar_str(s, target_string):\n",
    "    if isinstance(s, str):\n",
    "        return s.replace(target_string, '')\n",
    "    else:\n",
    "        return s"
   ]
  },
  {
   "cell_type": "code",
   "execution_count": 3,
   "metadata": {},
   "outputs": [],
   "source": [
    "jusic_df = pd.read_csv('data/주식시장.csv', encoding='utf-8')\n",
    "jusic_df = jusic_df.map(lambda x: remove_tar_str(x, ',')).apply(num_str2float)"
   ]
  },
  {
   "cell_type": "code",
   "execution_count": 4,
   "metadata": {},
   "outputs": [
    {
     "data": {
      "text/html": [
       "<div>\n",
       "<style scoped>\n",
       "    .dataframe tbody tr th:only-of-type {\n",
       "        vertical-align: middle;\n",
       "    }\n",
       "\n",
       "    .dataframe tbody tr th {\n",
       "        vertical-align: top;\n",
       "    }\n",
       "\n",
       "    .dataframe thead th {\n",
       "        text-align: right;\n",
       "    }\n",
       "</style>\n",
       "<table border=\"1\" class=\"dataframe\">\n",
       "  <thead>\n",
       "    <tr style=\"text-align: right;\">\n",
       "      <th></th>\n",
       "      <th>통계표</th>\n",
       "      <th>계정항목</th>\n",
       "      <th>단위</th>\n",
       "      <th>변환</th>\n",
       "      <th>2018/01</th>\n",
       "      <th>2018/02</th>\n",
       "      <th>2018/03</th>\n",
       "      <th>2018/04</th>\n",
       "      <th>2018/05</th>\n",
       "      <th>2018/06</th>\n",
       "      <th>...</th>\n",
       "      <th>2023/02</th>\n",
       "      <th>2023/03</th>\n",
       "      <th>2023/04</th>\n",
       "      <th>2023/05</th>\n",
       "      <th>2023/06</th>\n",
       "      <th>2023/07</th>\n",
       "      <th>2023/08</th>\n",
       "      <th>2023/09</th>\n",
       "      <th>2023/10</th>\n",
       "      <th>2023/11</th>\n",
       "    </tr>\n",
       "  </thead>\n",
       "  <tbody>\n",
       "    <tr>\n",
       "      <th>0</th>\n",
       "      <td>1.5.1.2. 주식시장(월년)</td>\n",
       "      <td>KOSPI_종가</td>\n",
       "      <td>1980.01.04=100</td>\n",
       "      <td>원자료</td>\n",
       "      <td>2566.46</td>\n",
       "      <td>2427.36</td>\n",
       "      <td>2445.85</td>\n",
       "      <td>2515.38</td>\n",
       "      <td>2423.01</td>\n",
       "      <td>2326.13</td>\n",
       "      <td>...</td>\n",
       "      <td>2412.85</td>\n",
       "      <td>2476.86</td>\n",
       "      <td>2501.53</td>\n",
       "      <td>2577.12</td>\n",
       "      <td>2564.28</td>\n",
       "      <td>2632.58</td>\n",
       "      <td>2556.27</td>\n",
       "      <td>2465.07</td>\n",
       "      <td>2277.99</td>\n",
       "      <td>2535.29</td>\n",
       "    </tr>\n",
       "    <tr>\n",
       "      <th>1</th>\n",
       "      <td>1.5.1.2. 주식시장(월년)</td>\n",
       "      <td>KOSDAQ_종가</td>\n",
       "      <td>1996.07.01=1000</td>\n",
       "      <td>원자료</td>\n",
       "      <td>913.57</td>\n",
       "      <td>857.06</td>\n",
       "      <td>871.09</td>\n",
       "      <td>875.95</td>\n",
       "      <td>879.66</td>\n",
       "      <td>818.22</td>\n",
       "      <td>...</td>\n",
       "      <td>791.60</td>\n",
       "      <td>847.52</td>\n",
       "      <td>842.83</td>\n",
       "      <td>856.94</td>\n",
       "      <td>868.24</td>\n",
       "      <td>935.97</td>\n",
       "      <td>928.40</td>\n",
       "      <td>841.02</td>\n",
       "      <td>736.10</td>\n",
       "      <td>831.68</td>\n",
       "    </tr>\n",
       "  </tbody>\n",
       "</table>\n",
       "<p>2 rows × 75 columns</p>\n",
       "</div>"
      ],
      "text/plain": [
       "                 통계표         계정항목               단위   변환  2018/01  2018/02  \\\n",
       "0  1.5.1.2. 주식시장(월년)     KOSPI_종가  1980.01.04=100   원자료  2566.46  2427.36   \n",
       "1  1.5.1.2. 주식시장(월년)    KOSDAQ_종가  1996.07.01=1000  원자료   913.57   857.06   \n",
       "\n",
       "   2018/03  2018/04  2018/05  2018/06  ...  2023/02  2023/03  2023/04  \\\n",
       "0  2445.85  2515.38  2423.01  2326.13  ...  2412.85  2476.86  2501.53   \n",
       "1   871.09   875.95   879.66   818.22  ...   791.60   847.52   842.83   \n",
       "\n",
       "   2023/05  2023/06  2023/07  2023/08  2023/09  2023/10  2023/11  \n",
       "0  2577.12  2564.28  2632.58  2556.27  2465.07  2277.99  2535.29  \n",
       "1   856.94   868.24   935.97   928.40   841.02   736.10   831.68  \n",
       "\n",
       "[2 rows x 75 columns]"
      ]
     },
     "execution_count": 4,
     "metadata": {},
     "output_type": "execute_result"
    }
   ],
   "source": [
    "jusic_df"
   ]
  },
  {
   "cell_type": "code",
   "execution_count": 5,
   "metadata": {},
   "outputs": [],
   "source": [
    "jusic_df_df = jusic_df.drop(jusic_df.columns[:4], axis=1)"
   ]
  },
  {
   "cell_type": "code",
   "execution_count": 6,
   "metadata": {},
   "outputs": [
    {
     "data": {
      "text/html": [
       "<div>\n",
       "<style scoped>\n",
       "    .dataframe tbody tr th:only-of-type {\n",
       "        vertical-align: middle;\n",
       "    }\n",
       "\n",
       "    .dataframe tbody tr th {\n",
       "        vertical-align: top;\n",
       "    }\n",
       "\n",
       "    .dataframe thead th {\n",
       "        text-align: right;\n",
       "    }\n",
       "</style>\n",
       "<table border=\"1\" class=\"dataframe\">\n",
       "  <thead>\n",
       "    <tr style=\"text-align: right;\">\n",
       "      <th></th>\n",
       "      <th>2018/01</th>\n",
       "      <th>2018/02</th>\n",
       "      <th>2018/03</th>\n",
       "      <th>2018/04</th>\n",
       "      <th>2018/05</th>\n",
       "      <th>2018/06</th>\n",
       "      <th>2018/07</th>\n",
       "      <th>2018/08</th>\n",
       "      <th>2018/09</th>\n",
       "      <th>2018/10</th>\n",
       "      <th>...</th>\n",
       "      <th>2023/02</th>\n",
       "      <th>2023/03</th>\n",
       "      <th>2023/04</th>\n",
       "      <th>2023/05</th>\n",
       "      <th>2023/06</th>\n",
       "      <th>2023/07</th>\n",
       "      <th>2023/08</th>\n",
       "      <th>2023/09</th>\n",
       "      <th>2023/10</th>\n",
       "      <th>2023/11</th>\n",
       "    </tr>\n",
       "  </thead>\n",
       "  <tbody>\n",
       "    <tr>\n",
       "      <th>0</th>\n",
       "      <td>2566.46</td>\n",
       "      <td>2427.36</td>\n",
       "      <td>2445.85</td>\n",
       "      <td>2515.38</td>\n",
       "      <td>2423.01</td>\n",
       "      <td>2326.13</td>\n",
       "      <td>2295.26</td>\n",
       "      <td>2322.88</td>\n",
       "      <td>2343.07</td>\n",
       "      <td>2029.69</td>\n",
       "      <td>...</td>\n",
       "      <td>2412.85</td>\n",
       "      <td>2476.86</td>\n",
       "      <td>2501.53</td>\n",
       "      <td>2577.12</td>\n",
       "      <td>2564.28</td>\n",
       "      <td>2632.58</td>\n",
       "      <td>2556.27</td>\n",
       "      <td>2465.07</td>\n",
       "      <td>2277.99</td>\n",
       "      <td>2535.29</td>\n",
       "    </tr>\n",
       "    <tr>\n",
       "      <th>1</th>\n",
       "      <td>913.57</td>\n",
       "      <td>857.06</td>\n",
       "      <td>871.09</td>\n",
       "      <td>875.95</td>\n",
       "      <td>879.66</td>\n",
       "      <td>818.22</td>\n",
       "      <td>775.52</td>\n",
       "      <td>816.97</td>\n",
       "      <td>822.27</td>\n",
       "      <td>648.67</td>\n",
       "      <td>...</td>\n",
       "      <td>791.60</td>\n",
       "      <td>847.52</td>\n",
       "      <td>842.83</td>\n",
       "      <td>856.94</td>\n",
       "      <td>868.24</td>\n",
       "      <td>935.97</td>\n",
       "      <td>928.40</td>\n",
       "      <td>841.02</td>\n",
       "      <td>736.10</td>\n",
       "      <td>831.68</td>\n",
       "    </tr>\n",
       "  </tbody>\n",
       "</table>\n",
       "<p>2 rows × 71 columns</p>\n",
       "</div>"
      ],
      "text/plain": [
       "   2018/01  2018/02  2018/03  2018/04  2018/05  2018/06  2018/07  2018/08  \\\n",
       "0  2566.46  2427.36  2445.85  2515.38  2423.01  2326.13  2295.26  2322.88   \n",
       "1   913.57   857.06   871.09   875.95   879.66   818.22   775.52   816.97   \n",
       "\n",
       "   2018/09  2018/10  ...  2023/02  2023/03  2023/04  2023/05  2023/06  \\\n",
       "0  2343.07  2029.69  ...  2412.85  2476.86  2501.53  2577.12  2564.28   \n",
       "1   822.27   648.67  ...   791.60   847.52   842.83   856.94   868.24   \n",
       "\n",
       "   2023/07  2023/08  2023/09  2023/10  2023/11  \n",
       "0  2632.58  2556.27  2465.07  2277.99  2535.29  \n",
       "1   935.97   928.40   841.02   736.10   831.68  \n",
       "\n",
       "[2 rows x 71 columns]"
      ]
     },
     "execution_count": 6,
     "metadata": {},
     "output_type": "execute_result"
    }
   ],
   "source": [
    "jusic_df_df"
   ]
  },
  {
   "cell_type": "code",
   "execution_count": 7,
   "metadata": {},
   "outputs": [],
   "source": [
    "kospi = jusic_df_df.loc[0]\n",
    "kosdaq = jusic_df_df.loc[1]"
   ]
  },
  {
   "cell_type": "code",
   "execution_count": 9,
   "metadata": {},
   "outputs": [],
   "source": [
    "kospi.index = pd.to_numeric(kospi.index.str.replace('/', ''))\n",
    "kosdaq.index = pd.to_numeric(kosdaq.index.str.replace('/', ''))"
   ]
  },
  {
   "cell_type": "code",
   "execution_count": 22,
   "metadata": {},
   "outputs": [],
   "source": [
    "kosdaq.columns = ['kosdaq']\n",
    "kospi.columns = ['kospi']"
   ]
  },
  {
   "cell_type": "code",
   "execution_count": 23,
   "metadata": {},
   "outputs": [],
   "source": [
    "kosdaq.to_csv('data/kosdaq.csv', encoding='utf-8', index=True)"
   ]
  },
  {
   "cell_type": "code",
   "execution_count": 24,
   "metadata": {},
   "outputs": [],
   "source": [
    "kospi.to_csv('data/kospi.csv', encoding='utf-8', index=True)"
   ]
  },
  {
   "cell_type": "code",
   "execution_count": 19,
   "metadata": {},
   "outputs": [
    {
     "data": {
      "text/plain": [
       "201801    913.57\n",
       "201802    857.06\n",
       "201803    871.09\n",
       "201804    875.95\n",
       "201805    879.66\n",
       "           ...  \n",
       "202307    935.97\n",
       "202308    928.40\n",
       "202309    841.02\n",
       "202310    736.10\n",
       "202311    831.68\n",
       "Name: 1, Length: 71, dtype: float64"
      ]
     },
     "execution_count": 19,
     "metadata": {},
     "output_type": "execute_result"
    }
   ],
   "source": [
    "kosdaq"
   ]
  },
  {
   "cell_type": "code",
   "execution_count": null,
   "metadata": {},
   "outputs": [],
   "source": []
  }
 ],
 "metadata": {
  "kernelspec": {
   "display_name": "study-env",
   "language": "python",
   "name": "python3"
  },
  "language_info": {
   "codemirror_mode": {
    "name": "ipython",
    "version": 3
   },
   "file_extension": ".py",
   "mimetype": "text/x-python",
   "name": "python",
   "nbconvert_exporter": "python",
   "pygments_lexer": "ipython3",
   "version": "3.9.18"
  }
 },
 "nbformat": 4,
 "nbformat_minor": 2
}
