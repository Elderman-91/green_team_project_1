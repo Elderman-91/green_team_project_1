{
 "cells": [
  {
   "cell_type": "code",
   "execution_count": 55,
   "metadata": {},
   "outputs": [],
   "source": [
    "import pandas as pd\n",
    "import numpy as np\n",
    "import matplotlib.pyplot as plt\n",
    "import seaborn as sns"
   ]
  },
  {
   "cell_type": "code",
   "execution_count": 56,
   "metadata": {},
   "outputs": [],
   "source": [
    "# 데이터 프레임 내 숫자 형태의 string을 int 또는 float으로 변환\n",
    "def num_str2float(s):\n",
    "    try:\n",
    "        return pd.to_numeric(s)\n",
    "    except ValueError:\n",
    "        return s\n",
    "\n",
    "# 데이터 프레임 내 string에서 특정 문자 제거 예: ',' 또는 '_'\n",
    "def remove_tar_str(s, target_string):\n",
    "    if isinstance(s, str):\n",
    "        return s.replace(target_string, '')\n",
    "    else:\n",
    "        return s"
   ]
  },
  {
   "cell_type": "code",
   "execution_count": 57,
   "metadata": {},
   "outputs": [],
   "source": [
    "plt.rcParams['font.family'] = \"NanumGothic\"\n",
    "plt.rcParams['axes.unicode_minus'] = False"
   ]
  },
  {
   "cell_type": "code",
   "execution_count": 58,
   "metadata": {},
   "outputs": [],
   "source": [
    "price_n_interest = pd.read_csv('data/gangnam_price_n_interest.csv', encoding='utf-8', index_col=0)"
   ]
  },
  {
   "cell_type": "code",
   "execution_count": 59,
   "metadata": {},
   "outputs": [],
   "source": [
    "gangna_price_corr = price_n_interest.drop(['평단가', '금리'], axis=1).corr()"
   ]
  },
  {
   "cell_type": "code",
   "execution_count": 60,
   "metadata": {},
   "outputs": [
    {
     "data": {
      "image/png": "[encoded data removed]",
      "text/plain": [
       "<Figure size 640x480 with 2 Axes>"
      ]
     },
     "metadata": {},
     "output_type": "display_data"
    }
   ],
   "source": [
    "sns.heatmap(gangna_price_corr, annot=True)\n",
    "plt.show()"
   ]
  },
  {
   "cell_type": "code",
   "execution_count": 61,
   "metadata": {},
   "outputs": [],
   "source": [
    "gangnag_18 = pd.read_csv('data/18.csv')"
   ]
  },
  {
   "cell_type": "code",
   "execution_count": 62,
   "metadata": {},
   "outputs": [
    {
     "data": {
      "text/plain": [
       "계약년월\n",
       "201801    794\n",
       "201808    728\n",
       "201802    356\n",
       "201803    334\n",
       "201809    309\n",
       "201807    297\n",
       "201806    140\n",
       "201805    139\n",
       "201810    136\n",
       "201804    134\n",
       "201812     80\n",
       "201811     70\n",
       "Name: count, dtype: int64"
      ]
     },
     "execution_count": 62,
     "metadata": {},
     "output_type": "execute_result"
    }
   ],
   "source": [
    "gangnag_18['계약년월'].value_counts()"
   ]
  },
  {
   "cell_type": "code",
   "execution_count": 63,
   "metadata": {},
   "outputs": [],
   "source": [
    "#파일 로드 및 변환\n",
    "def data_prep(file):\n",
    "    df = pd.read_csv(file, encoding='utf-8') # 파일 CSV 형태로 로드\n",
    "    df = df.map(lambda x: remove_tar_str(x, ',')).apply(num_str2float) #데이터 프레임 내 특정 string 제거 후 숫자 변환 수행\n",
    "\n",
    "    df = df.drop(df.columns[9:], axis=1)\n",
    "    df['거래금액(원)'] = df['거래금액(만원)']*10000\n",
    "    df['전용면적(평)'] = df['전용면적(㎡)']/3.3\n",
    "    df['평단가'] = df['거래금액(만원)']/df['전용면적(평)']\n",
    "    return df"
   ]
  },
  {
   "cell_type": "code",
   "execution_count": 64,
   "metadata": {},
   "outputs": [],
   "source": [
    "file_list = [\n",
    "    'data/18.csv',\n",
    "    'data/19.csv',\n",
    "    'data/20.csv',\n",
    "    'data/21.csv',\n",
    "    'data/22.csv',\n",
    "    'data/23.csv'\n",
    "]\n",
    "N_df = pd.DataFrame()\n",
    "for file in file_list:\n",
    "    df = data_prep(file)\n",
    "    N_df = pd.concat([N_df, df], axis=0)\n",
    "\n",
    "df_desc = N_df.sort_values(by=['계약년월']).groupby('계약년월').agg({'평단가': 'mean'})"
   ]
  },
  {
   "cell_type": "code",
   "execution_count": 65,
   "metadata": {},
   "outputs": [
    {
     "data": {
      "text/html": [
       "<div>\n",
       "<style scoped>\n",
       "    .dataframe tbody tr th:only-of-type {\n",
       "        vertical-align: middle;\n",
       "    }\n",
       "\n",
       "    .dataframe tbody tr th {\n",
       "        vertical-align: top;\n",
       "    }\n",
       "\n",
       "    .dataframe thead th {\n",
       "        text-align: right;\n",
       "    }\n",
       "</style>\n",
       "<table border=\"1\" class=\"dataframe\">\n",
       "  <thead>\n",
       "    <tr style=\"text-align: right;\">\n",
       "      <th></th>\n",
       "      <th>시군구</th>\n",
       "      <th>번지</th>\n",
       "      <th>본번</th>\n",
       "      <th>부번</th>\n",
       "      <th>단지명</th>\n",
       "      <th>전용면적(㎡)</th>\n",
       "      <th>계약년월</th>\n",
       "      <th>계약일</th>\n",
       "      <th>거래금액(만원)</th>\n",
       "      <th>거래금액(원)</th>\n",
       "      <th>전용면적(평)</th>\n",
       "      <th>평단가</th>\n",
       "    </tr>\n",
       "  </thead>\n",
       "  <tbody>\n",
       "    <tr>\n",
       "      <th>0</th>\n",
       "      <td>서울특별시 강남구 개포동</td>\n",
       "      <td>658-1</td>\n",
       "      <td>658</td>\n",
       "      <td>1</td>\n",
       "      <td>개포6차우성아파트1동~8동</td>\n",
       "      <td>79.97</td>\n",
       "      <td>201801</td>\n",
       "      <td>3</td>\n",
       "      <td>130000</td>\n",
       "      <td>1300000000</td>\n",
       "      <td>24.233333</td>\n",
       "      <td>5364.511692</td>\n",
       "    </tr>\n",
       "    <tr>\n",
       "      <th>1</th>\n",
       "      <td>서울특별시 강남구 개포동</td>\n",
       "      <td>658-1</td>\n",
       "      <td>658</td>\n",
       "      <td>1</td>\n",
       "      <td>개포6차우성아파트1동~8동</td>\n",
       "      <td>79.97</td>\n",
       "      <td>201801</td>\n",
       "      <td>8</td>\n",
       "      <td>117000</td>\n",
       "      <td>1170000000</td>\n",
       "      <td>24.233333</td>\n",
       "      <td>4828.060523</td>\n",
       "    </tr>\n",
       "    <tr>\n",
       "      <th>2</th>\n",
       "      <td>서울특별시 강남구 개포동</td>\n",
       "      <td>658-1</td>\n",
       "      <td>658</td>\n",
       "      <td>1</td>\n",
       "      <td>개포6차우성아파트1동~8동</td>\n",
       "      <td>79.97</td>\n",
       "      <td>201801</td>\n",
       "      <td>11</td>\n",
       "      <td>130000</td>\n",
       "      <td>1300000000</td>\n",
       "      <td>24.233333</td>\n",
       "      <td>5364.511692</td>\n",
       "    </tr>\n",
       "    <tr>\n",
       "      <th>3</th>\n",
       "      <td>서울특별시 강남구 개포동</td>\n",
       "      <td>658-1</td>\n",
       "      <td>658</td>\n",
       "      <td>1</td>\n",
       "      <td>개포6차우성아파트1동~8동</td>\n",
       "      <td>79.97</td>\n",
       "      <td>201803</td>\n",
       "      <td>19</td>\n",
       "      <td>139500</td>\n",
       "      <td>1395000000</td>\n",
       "      <td>24.233333</td>\n",
       "      <td>5756.533700</td>\n",
       "    </tr>\n",
       "    <tr>\n",
       "      <th>4</th>\n",
       "      <td>서울특별시 강남구 개포동</td>\n",
       "      <td>658-1</td>\n",
       "      <td>658</td>\n",
       "      <td>1</td>\n",
       "      <td>개포6차우성아파트1동~8동</td>\n",
       "      <td>54.98</td>\n",
       "      <td>201804</td>\n",
       "      <td>5</td>\n",
       "      <td>107500</td>\n",
       "      <td>1075000000</td>\n",
       "      <td>16.660606</td>\n",
       "      <td>6452.346308</td>\n",
       "    </tr>\n",
       "    <tr>\n",
       "      <th>...</th>\n",
       "      <td>...</td>\n",
       "      <td>...</td>\n",
       "      <td>...</td>\n",
       "      <td>...</td>\n",
       "      <td>...</td>\n",
       "      <td>...</td>\n",
       "      <td>...</td>\n",
       "      <td>...</td>\n",
       "      <td>...</td>\n",
       "      <td>...</td>\n",
       "      <td>...</td>\n",
       "      <td>...</td>\n",
       "    </tr>\n",
       "    <tr>\n",
       "      <th>17186</th>\n",
       "      <td>서울특별시 강남구 청담동</td>\n",
       "      <td>23</td>\n",
       "      <td>23</td>\n",
       "      <td>0</td>\n",
       "      <td>현대아파트</td>\n",
       "      <td>84.78</td>\n",
       "      <td>202311</td>\n",
       "      <td>18</td>\n",
       "      <td>184000</td>\n",
       "      <td>1840000000</td>\n",
       "      <td>25.690909</td>\n",
       "      <td>7162.066525</td>\n",
       "    </tr>\n",
       "    <tr>\n",
       "      <th>17187</th>\n",
       "      <td>서울특별시 강남구 청담동</td>\n",
       "      <td>75-1</td>\n",
       "      <td>75</td>\n",
       "      <td>1</td>\n",
       "      <td>현대아파트(75-1)</td>\n",
       "      <td>95.38</td>\n",
       "      <td>202305</td>\n",
       "      <td>31</td>\n",
       "      <td>211000</td>\n",
       "      <td>2110000000</td>\n",
       "      <td>28.903030</td>\n",
       "      <td>7300.272594</td>\n",
       "    </tr>\n",
       "    <tr>\n",
       "      <th>17188</th>\n",
       "      <td>서울특별시 강남구 청담동</td>\n",
       "      <td>106</td>\n",
       "      <td>106</td>\n",
       "      <td>0</td>\n",
       "      <td>현대한강빌라</td>\n",
       "      <td>136.26</td>\n",
       "      <td>202302</td>\n",
       "      <td>23</td>\n",
       "      <td>350000</td>\n",
       "      <td>3500000000</td>\n",
       "      <td>41.290909</td>\n",
       "      <td>8476.442096</td>\n",
       "    </tr>\n",
       "    <tr>\n",
       "      <th>17189</th>\n",
       "      <td>서울특별시 강남구 청담동</td>\n",
       "      <td>106</td>\n",
       "      <td>106</td>\n",
       "      <td>0</td>\n",
       "      <td>현대한강빌라</td>\n",
       "      <td>136.26</td>\n",
       "      <td>202304</td>\n",
       "      <td>1</td>\n",
       "      <td>295000</td>\n",
       "      <td>2950000000</td>\n",
       "      <td>41.290909</td>\n",
       "      <td>7144.429767</td>\n",
       "    </tr>\n",
       "    <tr>\n",
       "      <th>17190</th>\n",
       "      <td>서울특별시 강남구 청담동</td>\n",
       "      <td>106</td>\n",
       "      <td>106</td>\n",
       "      <td>0</td>\n",
       "      <td>현대한강빌라</td>\n",
       "      <td>134.76</td>\n",
       "      <td>202310</td>\n",
       "      <td>5</td>\n",
       "      <td>370000</td>\n",
       "      <td>3700000000</td>\n",
       "      <td>40.836364</td>\n",
       "      <td>9060.552093</td>\n",
       "    </tr>\n",
       "  </tbody>\n",
       "</table>\n",
       "<p>17191 rows × 12 columns</p>\n",
       "</div>"
      ],
      "text/plain": [
       "                 시군구     번지   본번  부번             단지명  전용면적(㎡)    계약년월  계약일  \\\n",
       "0      서울특별시 강남구 개포동  658-1  658   1  개포6차우성아파트1동~8동    79.97  201801    3   \n",
       "1      서울특별시 강남구 개포동  658-1  658   1  개포6차우성아파트1동~8동    79.97  201801    8   \n",
       "2      서울특별시 강남구 개포동  658-1  658   1  개포6차우성아파트1동~8동    79.97  201801   11   \n",
       "3      서울특별시 강남구 개포동  658-1  658   1  개포6차우성아파트1동~8동    79.97  201803   19   \n",
       "4      서울특별시 강남구 개포동  658-1  658   1  개포6차우성아파트1동~8동    54.98  201804    5   \n",
       "...              ...    ...  ...  ..             ...      ...     ...  ...   \n",
       "17186  서울특별시 강남구 청담동     23   23   0           현대아파트    84.78  202311   18   \n",
       "17187  서울특별시 강남구 청담동   75-1   75   1     현대아파트(75-1)    95.38  202305   31   \n",
       "17188  서울특별시 강남구 청담동    106  106   0          현대한강빌라   136.26  202302   23   \n",
       "17189  서울특별시 강남구 청담동    106  106   0          현대한강빌라   136.26  202304    1   \n",
       "17190  서울특별시 강남구 청담동    106  106   0          현대한강빌라   134.76  202310    5   \n",
       "\n",
       "       거래금액(만원)     거래금액(원)    전용면적(평)          평단가  \n",
       "0        130000  1300000000  24.233333  5364.511692  \n",
       "1        117000  1170000000  24.233333  4828.060523  \n",
       "2        130000  1300000000  24.233333  5364.511692  \n",
       "3        139500  1395000000  24.233333  5756.533700  \n",
       "4        107500  1075000000  16.660606  6452.346308  \n",
       "...         ...         ...        ...          ...  \n",
       "17186    184000  1840000000  25.690909  7162.066525  \n",
       "17187    211000  2110000000  28.903030  7300.272594  \n",
       "17188    350000  3500000000  41.290909  8476.442096  \n",
       "17189    295000  2950000000  41.290909  7144.429767  \n",
       "17190    370000  3700000000  40.836364  9060.552093  \n",
       "\n",
       "[17191 rows x 12 columns]"
      ]
     },
     "execution_count": 65,
     "metadata": {},
     "output_type": "execute_result"
    }
   ],
   "source": [
    "N_df.reset_index(drop=True)"
   ]
  },
  {
   "cell_type": "code",
   "execution_count": 66,
   "metadata": {},
   "outputs": [],
   "source": [
    "N_df.to_csv(\"data/18~23.csv\", index=True)"
   ]
  },
  {
   "cell_type": "code",
   "execution_count": 67,
   "metadata": {},
   "outputs": [],
   "source": [
    "trade_volumn = N_df['계약년월'].value_counts()"
   ]
  },
  {
   "cell_type": "code",
   "execution_count": 68,
   "metadata": {},
   "outputs": [
    {
     "data": {
      "text/plain": [
       "계약년월\n",
       "202006    824\n",
       "201801    794\n",
       "201808    728\n",
       "201910    698\n",
       "201907    668\n",
       "         ... \n",
       "201902     49\n",
       "202212     43\n",
       "202211     38\n",
       "202209     32\n",
       "202210     31\n",
       "Name: count, Length: 71, dtype: int64"
      ]
     },
     "execution_count": 68,
     "metadata": {},
     "output_type": "execute_result"
    }
   ],
   "source": [
    "trade_volumn"
   ]
  },
  {
   "cell_type": "code",
   "execution_count": 69,
   "metadata": {},
   "outputs": [],
   "source": [
    "temp_out_df = pd.merge(df_desc, trade_volumn, left_index=True, right_index=True, how='inner')"
   ]
  },
  {
   "cell_type": "code",
   "execution_count": 70,
   "metadata": {},
   "outputs": [],
   "source": [
    "#파일 로드 및 변환\n",
    "sample_df = pd.read_csv('data/한국은행 기준금리 및 여수신금리_2013_11-2023_11.csv', encoding='utf-8') # 파일 CSV 형태로 로드\n",
    "sample_df = sample_df.map(lambda x: remove_tar_str(x, ',')).apply(num_str2float) #데이터 프레임 내 특정 string 제거 후 숫자 변환 수행\n",
    "column_names = sample_df.columns\n",
    "ref_inter_rate = sample_df.drop(columns=column_names[0:4], axis=1).T.rename(columns={0: \"금리\"})\n",
    "ref_inter_rate.index = pd.to_numeric(ref_inter_rate.index.str.replace('/', ''))"
   ]
  },
  {
   "cell_type": "code",
   "execution_count": 71,
   "metadata": {},
   "outputs": [],
   "source": [
    "final_out_df = pd.merge(temp_out_df, ref_inter_rate, how='inner', left_index=True, right_index=True)"
   ]
  },
  {
   "cell_type": "code",
   "execution_count": 72,
   "metadata": {},
   "outputs": [
    {
     "data": {
      "text/html": [
       "<div>\n",
       "<style scoped>\n",
       "    .dataframe tbody tr th:only-of-type {\n",
       "        vertical-align: middle;\n",
       "    }\n",
       "\n",
       "    .dataframe tbody tr th {\n",
       "        vertical-align: top;\n",
       "    }\n",
       "\n",
       "    .dataframe thead th {\n",
       "        text-align: right;\n",
       "    }\n",
       "</style>\n",
       "<table border=\"1\" class=\"dataframe\">\n",
       "  <thead>\n",
       "    <tr style=\"text-align: right;\">\n",
       "      <th></th>\n",
       "      <th>평단가</th>\n",
       "      <th>count</th>\n",
       "      <th>금리</th>\n",
       "    </tr>\n",
       "  </thead>\n",
       "  <tbody>\n",
       "    <tr>\n",
       "      <th>201801</th>\n",
       "      <td>5284.683427</td>\n",
       "      <td>794</td>\n",
       "      <td>1.5</td>\n",
       "    </tr>\n",
       "    <tr>\n",
       "      <th>201802</th>\n",
       "      <td>5162.512642</td>\n",
       "      <td>356</td>\n",
       "      <td>1.5</td>\n",
       "    </tr>\n",
       "    <tr>\n",
       "      <th>201803</th>\n",
       "      <td>5559.330421</td>\n",
       "      <td>334</td>\n",
       "      <td>1.5</td>\n",
       "    </tr>\n",
       "    <tr>\n",
       "      <th>201804</th>\n",
       "      <td>5408.207363</td>\n",
       "      <td>134</td>\n",
       "      <td>1.5</td>\n",
       "    </tr>\n",
       "    <tr>\n",
       "      <th>201805</th>\n",
       "      <td>5384.022908</td>\n",
       "      <td>139</td>\n",
       "      <td>1.5</td>\n",
       "    </tr>\n",
       "    <tr>\n",
       "      <th>...</th>\n",
       "      <td>...</td>\n",
       "      <td>...</td>\n",
       "      <td>...</td>\n",
       "    </tr>\n",
       "    <tr>\n",
       "      <th>202307</th>\n",
       "      <td>8650.016658</td>\n",
       "      <td>247</td>\n",
       "      <td>3.5</td>\n",
       "    </tr>\n",
       "    <tr>\n",
       "      <th>202308</th>\n",
       "      <td>8627.588392</td>\n",
       "      <td>280</td>\n",
       "      <td>3.5</td>\n",
       "    </tr>\n",
       "    <tr>\n",
       "      <th>202309</th>\n",
       "      <td>8381.031394</td>\n",
       "      <td>200</td>\n",
       "      <td>3.5</td>\n",
       "    </tr>\n",
       "    <tr>\n",
       "      <th>202310</th>\n",
       "      <td>8845.620143</td>\n",
       "      <td>139</td>\n",
       "      <td>3.5</td>\n",
       "    </tr>\n",
       "    <tr>\n",
       "      <th>202311</th>\n",
       "      <td>7900.215944</td>\n",
       "      <td>107</td>\n",
       "      <td>3.5</td>\n",
       "    </tr>\n",
       "  </tbody>\n",
       "</table>\n",
       "<p>71 rows × 3 columns</p>\n",
       "</div>"
      ],
      "text/plain": [
       "                평단가  count   금리\n",
       "201801  5284.683427    794  1.5\n",
       "201802  5162.512642    356  1.5\n",
       "201803  5559.330421    334  1.5\n",
       "201804  5408.207363    134  1.5\n",
       "201805  5384.022908    139  1.5\n",
       "...             ...    ...  ...\n",
       "202307  8650.016658    247  3.5\n",
       "202308  8627.588392    280  3.5\n",
       "202309  8381.031394    200  3.5\n",
       "202310  8845.620143    139  3.5\n",
       "202311  7900.215944    107  3.5\n",
       "\n",
       "[71 rows x 3 columns]"
      ]
     },
     "execution_count": 72,
     "metadata": {},
     "output_type": "execute_result"
    }
   ],
   "source": [
    "final_out_df"
   ]
  },
  {
   "cell_type": "code",
   "execution_count": 73,
   "metadata": {},
   "outputs": [],
   "source": [
    "kospi = pd.read_csv('data/kospi.csv',index_col=0)\n",
    "kosdaq = pd.read_csv('data/kosdaq.csv', index_col=0)"
   ]
  },
  {
   "cell_type": "code",
   "execution_count": 74,
   "metadata": {},
   "outputs": [],
   "source": [
    "temp_df1 = pd.merge(final_out_df, kospi, how='inner', left_index=True, right_index=True)"
   ]
  },
  {
   "cell_type": "code",
   "execution_count": 75,
   "metadata": {},
   "outputs": [],
   "source": [
    "temp_df2 = pd.merge(temp_df1, kosdaq, how='inner', left_index=True, right_index=True)"
   ]
  },
  {
   "cell_type": "code",
   "execution_count": 80,
   "metadata": {},
   "outputs": [],
   "source": [
    "final_final_df = temp_df2.rename(columns={\"0\": \"kospi\", \"1\": 'kosdaq'})"
   ]
  },
  {
   "cell_type": "code",
   "execution_count": 83,
   "metadata": {},
   "outputs": [],
   "source": [
    "final_final_df.to_csv(\"data/completed_gangnam.csv\", encoding='utf-8')"
   ]
  }
 ],
 "metadata": {
  "kernelspec": {
   "display_name": "study-env",
   "language": "python",
   "name": "python3"
  },
  "language_info": {
   "codemirror_mode": {
    "name": "ipython",
    "version": 3
   },
   "file_extension": ".py",
   "mimetype": "text/x-python",
   "name": "python",
   "nbconvert_exporter": "python",
   "pygments_lexer": "ipython3",
   "version": "3.9.18"
  }
 },
 "nbformat": 4,
 "nbformat_minor": 2
}
