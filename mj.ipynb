{
 "cells": [
  {
   "cell_type": "code",
   "execution_count": 1,
   "metadata": {},
   "outputs": [],
   "source": [
    "import pandas as pd\n",
    "import numpy as np\n",
    "import matplotlib as mpl\n",
    "import matplotlib.pyplot as plt"
   ]
  },
  {
   "cell_type": "code",
   "execution_count": 2,
   "metadata": {},
   "outputs": [],
   "source": [
    "# 데이터 프레임 내 숫자 형태의 string을 int 또는 float으로 변환\n",
    "def num_str2float(s):\n",
    "    try:\n",
    "        return pd.to_numeric(s)\n",
    "    except ValueError:\n",
    "        return s\n",
    "\n",
    "# 데이터 프레임 내 string에서 특정 문자 제거 예: ',' 또는 '_'\n",
    "def remove_tar_str(s, target_string):\n",
    "    if isinstance(s, str):\n",
    "        return s.replace(target_string, '')\n",
    "    else:\n",
    "        return s"
   ]
  },
  {
   "cell_type": "code",
   "execution_count": 53,
   "metadata": {},
   "outputs": [],
   "source": [
    "#파일 로드 및 변환\n",
    "sample_df = pd.read_csv('data/한국은행 기준금리 및 여수신금리_2013_11-2023_11.csv', encoding='utf-8') # 파일 CSV 형태로 로드\n",
    "sample_df = sample_df.map(lambda x: remove_tar_str(x, ',')).apply(num_str2float) #데이터 프레임 내 특정 string 제거 후 숫자 변환 수행"
   ]
  },
  {
   "cell_type": "code",
   "execution_count": 54,
   "metadata": {},
   "outputs": [],
   "source": [
    "column_names = sample_df.columns"
   ]
  },
  {
   "cell_type": "code",
   "execution_count": 70,
   "metadata": {},
   "outputs": [],
   "source": [
    "ref_inter_rate = sample_df.drop(columns=column_names[0:4], axis=1).T.rename(columns={0: \"금리\"})\n",
    "ref_inter_rate.index = pd.to_numeric(ref_inter_rate.index.str.replace('/', ''))"
   ]
  },
  {
   "cell_type": "code",
   "execution_count": 71,
   "metadata": {},
   "outputs": [],
   "source": [
    "gangnam_df = pd.read_csv('data/seoul_building.csv', index_col=0)"
   ]
  },
  {
   "cell_type": "code",
   "execution_count": 74,
   "metadata": {},
   "outputs": [],
   "source": [
    "price_n_interest = pd.merge(gangnam_df, ref_inter_rate, how='inner', left_index=True, right_index=True)"
   ]
  },
  {
   "cell_type": "code",
   "execution_count": 77,
   "metadata": {},
   "outputs": [],
   "source": [
    "ref_index = 202106\n",
    "ref_price = price_n_interest.loc[ref_index, '평단가']\n",
    "ref_interest = price_n_interest.loc[ref_index, '금리']"
   ]
  },
  {
   "cell_type": "code",
   "execution_count": 84,
   "metadata": {},
   "outputs": [
    {
     "data": {
      "text/plain": [
       "(0.5, 7864.648057799362)"
      ]
     },
     "execution_count": 84,
     "metadata": {},
     "output_type": "execute_result"
    }
   ],
   "source": [
    "ref_interest, ref_price"
   ]
  },
  {
   "cell_type": "code",
   "execution_count": 81,
   "metadata": {},
   "outputs": [],
   "source": [
    "price_n_interest['평단가 지수'] = (price_n_interest['평단가']/ref_price).round(2)\n",
    "price_n_interest['금리 지수'] = (price_n_interest['금리']/ref_interest).round(2)"
   ]
  },
  {
   "cell_type": "code",
   "execution_count": 85,
   "metadata": {},
   "outputs": [],
   "source": [
    "price_n_interest.to_csv('gangnam_price_n_interest.csv', encoding='utf-8', index=True)"
   ]
  }
 ],
 "metadata": {
  "kernelspec": {
   "display_name": "study-env",
   "language": "python",
   "name": "python3"
  },
  "language_info": {
   "codemirror_mode": {
    "name": "ipython",
    "version": 3
   },
   "file_extension": ".py",
   "mimetype": "text/x-python",
   "name": "python",
   "nbconvert_exporter": "python",
   "pygments_lexer": "ipython3",
   "version": "3.9.18"
  }
 },
 "nbformat": 4,
 "nbformat_minor": 2
}
